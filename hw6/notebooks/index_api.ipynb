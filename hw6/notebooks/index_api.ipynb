{
  "cells": [
    {
      "cell_type": "markdown",
      "metadata": {
        "id": "view-in-github",
        "colab_type": "text"
      },
      "source": [
        "<a href=\"https://colab.research.google.com/github/VivianLiu0202/Information-Retrieval/blob/main/hw6/notebooks/index_api.ipynb\" target=\"_parent\"><img src=\"https://colab.research.google.com/assets/colab-badge.svg\" alt=\"Open In Colab\"/></a>"
      ]
    },
    {
      "cell_type": "markdown",
      "metadata": {
        "id": "TNdMHD8LS2Bm"
      },
      "source": [
        "# PyTerrier Index Analysis examples\n",
        "\n",
        "This notebook takes you through how to access an index directly in [Pyterrier](https://github.com/terrier-org/pyterrier)."
      ]
    },
    {
      "cell_type": "markdown",
      "metadata": {
        "id": "pkMrNonZrpEg"
      },
      "source": [
        "## Prerequisites\n",
        "\n",
        "You will need Pyterrier installed. Pyterrier also needs Java to be installed, and will find most installations."
      ]
    },
    {
      "cell_type": "code",
      "execution_count": 1,
      "metadata": {
        "colab": {
          "base_uri": "https://localhost:8080/"
        },
        "id": "JWLqWXBHeBRc",
        "outputId": "fa865464-c06a-4c03-a8f3-279f1bcd91bb",
        "vscode": {
          "languageId": "python"
        }
      },
      "outputs": [
        {
          "output_type": "stream",
          "name": "stdout",
          "text": [
            "\u001b[?25l     \u001b[90m━━━━━━━━━━━━━━━━━━━━━━━━━━━━━━━━━━━━━━━━\u001b[0m \u001b[32m0.0/107.6 kB\u001b[0m \u001b[31m?\u001b[0m eta \u001b[36m-:--:--\u001b[0m\r\u001b[2K     \u001b[91m━━━━━━━━━━━\u001b[0m\u001b[90m╺\u001b[0m\u001b[90m━━━━━━━━━━━━━━━━━━━━━━━━━━━━\u001b[0m \u001b[32m30.7/107.6 kB\u001b[0m \u001b[31m786.8 kB/s\u001b[0m eta \u001b[36m0:00:01\u001b[0m\r\u001b[2K     \u001b[91m━━━━━━━━━━━━━━━━━━━━━━━━━━━━━━━━━━\u001b[0m\u001b[90m╺\u001b[0m\u001b[90m━━━━━\u001b[0m \u001b[32m92.2/107.6 kB\u001b[0m \u001b[31m1.2 MB/s\u001b[0m eta \u001b[36m0:00:01\u001b[0m\r\u001b[2K     \u001b[90m━━━━━━━━━━━━━━━━━━━━━━━━━━━━━━━━━━━━━━━━\u001b[0m \u001b[32m107.6/107.6 kB\u001b[0m \u001b[31m1.1 MB/s\u001b[0m eta \u001b[36m0:00:00\u001b[0m\n",
            "\u001b[?25h  Preparing metadata (setup.py) ... \u001b[?25l\u001b[?25hdone\n",
            "  Preparing metadata (setup.py) ... \u001b[?25l\u001b[?25hdone\n",
            "\u001b[2K     \u001b[90m━━━━━━━━━━━━━━━━━━━━━━━━━━━━━━━━━━━━━━━━\u001b[0m \u001b[32m1.5/1.5 MB\u001b[0m \u001b[31m10.8 MB/s\u001b[0m eta \u001b[36m0:00:00\u001b[0m\n",
            "\u001b[2K     \u001b[90m━━━━━━━━━━━━━━━━━━━━━━━━━━━━━━━━━━━━━━━━\u001b[0m \u001b[32m69.6/69.6 kB\u001b[0m \u001b[31m4.7 MB/s\u001b[0m eta \u001b[36m0:00:00\u001b[0m\n",
            "\u001b[?25h  Preparing metadata (setup.py) ... \u001b[?25l\u001b[?25hdone\n",
            "\u001b[2K     \u001b[90m━━━━━━━━━━━━━━━━━━━━━━━━━━━━━━━━━━━━━━━━\u001b[0m \u001b[32m318.0/318.0 kB\u001b[0m \u001b[31m12.1 MB/s\u001b[0m eta \u001b[36m0:00:00\u001b[0m\n",
            "\u001b[2K     \u001b[90m━━━━━━━━━━━━━━━━━━━━━━━━━━━━━━━━━━━━━━━━\u001b[0m \u001b[32m48.8/48.8 kB\u001b[0m \u001b[31m3.6 MB/s\u001b[0m eta \u001b[36m0:00:00\u001b[0m\n",
            "\u001b[?25h  Preparing metadata (setup.py) ... \u001b[?25l\u001b[?25hdone\n",
            "\u001b[2K     \u001b[90m━━━━━━━━━━━━━━━━━━━━━━━━━━━━━━━━━━━━━━━━\u001b[0m \u001b[32m115.3/115.3 kB\u001b[0m \u001b[31m9.6 MB/s\u001b[0m eta \u001b[36m0:00:00\u001b[0m\n",
            "\u001b[2K     \u001b[90m━━━━━━━━━━━━━━━━━━━━━━━━━━━━━━━━━━━━━━━━\u001b[0m \u001b[32m287.4/287.4 kB\u001b[0m \u001b[31m18.2 MB/s\u001b[0m eta \u001b[36m0:00:00\u001b[0m\n",
            "\u001b[2K     \u001b[90m━━━━━━━━━━━━━━━━━━━━━━━━━━━━━━━━━━━━━━━━\u001b[0m \u001b[32m45.1/45.1 kB\u001b[0m \u001b[31m3.2 MB/s\u001b[0m eta \u001b[36m0:00:00\u001b[0m\n",
            "\u001b[2K     \u001b[90m━━━━━━━━━━━━━━━━━━━━━━━━━━━━━━━━━━━━━━━━\u001b[0m \u001b[32m41.2/41.2 kB\u001b[0m \u001b[31m2.5 MB/s\u001b[0m eta \u001b[36m0:00:00\u001b[0m\n",
            "\u001b[2K     \u001b[90m━━━━━━━━━━━━━━━━━━━━━━━━━━━━━━━━━━━━━━━━\u001b[0m \u001b[32m1.3/1.3 MB\u001b[0m \u001b[31m29.1 MB/s\u001b[0m eta \u001b[36m0:00:00\u001b[0m\n",
            "\u001b[?25h  Preparing metadata (setup.py) ... \u001b[?25l\u001b[?25hdone\n",
            "  Installing build dependencies ... \u001b[?25l\u001b[?25hdone\n",
            "  Getting requirements to build wheel ... \u001b[?25l\u001b[?25hdone\n",
            "  Installing backend dependencies ... \u001b[?25l\u001b[?25hdone\n",
            "  Preparing metadata (pyproject.toml) ... \u001b[?25l\u001b[?25hdone\n",
            "\u001b[2K     \u001b[90m━━━━━━━━━━━━━━━━━━━━━━━━━━━━━━━━━━━━━━━━\u001b[0m \u001b[32m111.8/111.8 kB\u001b[0m \u001b[31m6.6 MB/s\u001b[0m eta \u001b[36m0:00:00\u001b[0m\n",
            "\u001b[2K     \u001b[90m━━━━━━━━━━━━━━━━━━━━━━━━━━━━━━━━━━━━━━━━\u001b[0m \u001b[32m379.9/379.9 kB\u001b[0m \u001b[31m27.1 MB/s\u001b[0m eta \u001b[36m0:00:00\u001b[0m\n",
            "\u001b[?25h  Preparing metadata (setup.py) ... \u001b[?25l\u001b[?25hdone\n",
            "  Preparing metadata (setup.py) ... \u001b[?25l\u001b[?25hdone\n",
            "  Building wheel for python-terrier (setup.py) ... \u001b[?25l\u001b[?25hdone\n",
            "  Building wheel for ir_measures (setup.py) ... \u001b[?25l\u001b[?25hdone\n",
            "  Building wheel for chest (setup.py) ... \u001b[?25l\u001b[?25hdone\n",
            "  Building wheel for wget (setup.py) ... \u001b[?25l\u001b[?25hdone\n",
            "  Building wheel for cwl-eval (setup.py) ... \u001b[?25l\u001b[?25hdone\n",
            "  Building wheel for warc3-wet-clueweb09 (setup.py) ... \u001b[?25l\u001b[?25hdone\n",
            "  Building wheel for zlib-state (pyproject.toml) ... \u001b[?25l\u001b[?25hdone\n",
            "  Building wheel for cbor (setup.py) ... \u001b[?25l\u001b[?25hdone\n"
          ]
        }
      ],
      "source": [
        "%pip install -q python-terrier\n"
      ]
    },
    {
      "cell_type": "markdown",
      "metadata": {
        "id": "ixzDjvtTOQbB"
      },
      "source": [
        "## Init\n",
        "\n",
        "You must run `pt.init()` before other pyterrier functions and classes\n",
        "\n",
        "Optional Arguments:    \n",
        " - `version` - terrier IR version e.g. \"5.2\"    \n",
        " - `mem` - megabytes allocated to java e.g. \"4096\"      \n",
        " - `packages` - external java packages for Terrier to load e.g. [\"org.terrier:terrier.prf\"]\n",
        " - `logging` - logging level for Terrier. Defaults to \"WARN\", use \"INFO\" or \"DEBUG\" for more output.\n",
        "\n",
        "NB: Pyterrier needs Java 11 installed. If it cannot find your Java installation, you can set the `JAVA_HOME` environment variable."
      ]
    },
    {
      "cell_type": "code",
      "execution_count": null,
      "metadata": {
        "colab": {
          "base_uri": "https://localhost:8080/",
          "height": 85
        },
        "id": "k3ltUZ8PgWmz",
        "outputId": "28681afb-8132-4cde-a0eb-6dc4c53da1b4",
        "vscode": {
          "languageId": "python"
        }
      },
      "outputs": [
        {
          "name": "stdout",
          "output_type": "stream",
          "text": [
            "terrier-assemblies 5.2  jar-with-dependencies not found, downloading to /root/.pyterrier...\n",
            "Done\n",
            "terrier-python-helper 0.0.2  jar not found, downloading to /root/.pyterrier...\n",
            "Done\n"
          ]
        }
      ],
      "source": [
        "import pyterrier as pt\n",
        "if not pt.started():\n",
        "  pt.init()"
      ]
    },
    {
      "cell_type": "markdown",
      "metadata": {
        "id": "By5UFYnRLgD0"
      },
      "source": [
        "## Loading an Index\n",
        "\n",
        "Here, we are going to make use of Pyterrier's dataset API. We will use the [vaswani_npl corpus](http://ir.dcs.gla.ac.uk/resources/test_collections/npl/), a very small information retrieval test collection."
      ]
    },
    {
      "cell_type": "code",
      "execution_count": null,
      "metadata": {
        "colab": {
          "base_uri": "https://localhost:8080/",
          "height": 34
        },
        "id": "eRx5kIL9nmsB",
        "outputId": "b6774593-d847-4d23-bd77-c266b8a32d2f",
        "vscode": {
          "languageId": "python"
        }
      },
      "outputs": [
        {
          "name": "stdout",
          "output_type": "stream",
          "text": [
            "Downloading vaswani index to /root/.pyterrier/corpora/vaswani/index\n"
          ]
        }
      ],
      "source": [
        "dataset = pt.datasets.get_dataset(\"vaswani\")\n",
        "\n",
        "indexref = dataset.get_index()"
      ]
    },
    {
      "cell_type": "markdown",
      "metadata": {
        "id": "orZfC5vY-NQT"
      },
      "source": [
        "Lets have a look at the statistics of this index."
      ]
    },
    {
      "cell_type": "code",
      "execution_count": null,
      "metadata": {
        "colab": {
          "base_uri": "https://localhost:8080/",
          "height": 119
        },
        "id": "YxW1gSJh-MLr",
        "outputId": "d0ef80f7-de1a-4e1f-ddb3-dd8d98d634e7",
        "vscode": {
          "languageId": "python"
        }
      },
      "outputs": [
        {
          "name": "stdout",
          "output_type": "stream",
          "text": [
            "Number of documents: 11429\n",
            "Number of terms: 7756\n",
            "Number of fields: 0\n",
            "Field names: []\n",
            "Number of tokens: 271581\n",
            "\n"
          ]
        }
      ],
      "source": [
        "index = pt.IndexFactory.of(indexref)\n",
        "\n",
        "print(index.getCollectionStatistics().toString())"
      ]
    },
    {
      "cell_type": "markdown",
      "metadata": {
        "id": "KLlaucxq-i4b"
      },
      "source": [
        "## Using a Terrier index in your own code"
      ]
    },
    {
      "cell_type": "markdown",
      "metadata": {
        "id": "W7zH4-Y2-n7a"
      },
      "source": [
        "### How many documents does term X occur in?\n",
        "\n",
        "As our index is stemmed, we used the stemmed form of the word 'chemical' which is 'chemic'"
      ]
    },
    {
      "cell_type": "code",
      "execution_count": null,
      "metadata": {
        "colab": {
          "base_uri": "https://localhost:8080/",
          "height": 34
        },
        "id": "r1en_8ga-Y0d",
        "outputId": "8feff0b9-53ab-4acd-be51-150359b9c3ff",
        "vscode": {
          "languageId": "python"
        }
      },
      "outputs": [
        {
          "data": {
            "text/plain": [
              "20"
            ]
          },
          "execution_count": 9,
          "metadata": {
            "tags": []
          },
          "output_type": "execute_result"
        }
      ],
      "source": [
        "index.getLexicon()[\"chemic\"].getDocumentFrequency()"
      ]
    },
    {
      "cell_type": "markdown",
      "metadata": {
        "id": "_61z-MQQ-48S"
      },
      "source": [
        "### What is the un-smoothed probability of term Y occurring in the collection?\n",
        "\n",
        "Here, we again use the [Lexicon](http://terrier.org/docs/current/javadoc/org/terrier/structures/Lexicon.html) of the underlying Terrier index. We check that the term occurs in the lexicon (to prevent a KeyError). The Lexicon returns a [LexiconEntry](http://terrier.org/docs/current/javadoc/org/terrier/structures/LexiconEntry.html), which allows us access to the number of occurrences of the term in the index.\n",
        "\n",
        "Finally, we use the [CollectionStatistics](http://terrier.org/docs/current/javadoc/org/terrier/structures/CollectionStatistics.html) object to determine the total number of occurrences of all terms in the index."
      ]
    },
    {
      "cell_type": "code",
      "execution_count": null,
      "metadata": {
        "colab": {
          "base_uri": "https://localhost:8080/",
          "height": 34
        },
        "id": "7jEPzyru-tCF",
        "outputId": "b0f0b461-be41-4382-cfa2-22de5cac3f1c",
        "vscode": {
          "languageId": "python"
        }
      },
      "outputs": [
        {
          "data": {
            "text/plain": [
              "7.732499696223226e-05"
            ]
          },
          "execution_count": 10,
          "metadata": {
            "tags": []
          },
          "output_type": "execute_result"
        }
      ],
      "source": [
        "index.getLexicon()[\"chemic\"].getFrequency() / index.getCollectionStatistics().getNumberOfTokens() if \"chemic\" in index.getLexicon() else 0"
      ]
    },
    {
      "cell_type": "markdown",
      "metadata": {
        "id": "4O5oTE5m_72-"
      },
      "source": [
        "### What terms occur in the 11th document?\n"
      ]
    },
    {
      "cell_type": "code",
      "execution_count": null,
      "metadata": {
        "colab": {
          "base_uri": "https://localhost:8080/",
          "height": 357
        },
        "id": "DS2aAdbE_OqA",
        "outputId": "1c0abbad-0664-423a-8c51-b41d0f22124b",
        "vscode": {
          "languageId": "python"
        }
      },
      "outputs": [
        {
          "name": "stdout",
          "output_type": "stream",
          "text": [
            "circuit with frequency 3\n",
            "transistor with frequency 1\n",
            "us with frequency 1\n",
            "obtain with frequency 1\n",
            "switch with frequency 2\n",
            "design with frequency 1\n",
            "affect with frequency 1\n",
            "plot with frequency 1\n",
            "junction with frequency 1\n",
            "characterist with frequency 1\n",
            "paramet with frequency 1\n",
            "relat with frequency 1\n",
            "theoret with frequency 1\n",
            "load with frequency 1\n",
            "bistabl with frequency 1\n",
            "curv with frequency 1\n",
            "mai with frequency 1\n",
            "diagram with frequency 1\n",
            "line with frequency 1\n",
            "static with frequency 1\n"
          ]
        }
      ],
      "source": [
        "di = index.getDirectIndex()\n",
        "doi = index.getDocumentIndex()\n",
        "lex = index.getLexicon()\n",
        "docid = 10 #docids are 0-based\n",
        "#NB: postings will be null if the document is empty\n",
        "for posting in  di.getPostings(doi.getDocumentEntry(docid)):\n",
        "  termid = posting.getId()\n",
        "  lee = lex.getLexiconEntry(termid)\n",
        "  print(\"%s with frequency %d\" % (lee.getKey(),posting.getFrequency()))"
      ]
    },
    {
      "cell_type": "markdown",
      "metadata": {
        "id": "pOMptWqtAmUP"
      },
      "source": [
        "### What documents does term \"Z\" occur in?"
      ]
    },
    {
      "cell_type": "code",
      "execution_count": null,
      "metadata": {
        "colab": {
          "base_uri": "https://localhost:8080/",
          "height": 357
        },
        "id": "CfDga790AZ26",
        "outputId": "ab52b562-cc5b-4733-a9fc-934ca7fc71f5",
        "vscode": {
          "languageId": "python"
        }
      },
      "outputs": [
        {
          "name": "stdout",
          "output_type": "stream",
          "text": [
            "1056 with frequency 1 \n",
            "1140 with frequency 1 \n",
            "2050 with frequency 1 \n",
            "2417 with frequency 1 \n",
            "2520 with frequency 1 \n",
            "2558 with frequency 1 \n",
            "3320 with frequency 1 \n",
            "4054 with frequency 1 \n",
            "4687 with frequency 1 \n",
            "4886 with frequency 1 \n",
            "4912 with frequency 1 \n",
            "6129 with frequency 1 \n",
            "6279 with frequency 2 \n",
            "7049 with frequency 1 \n",
            "8416 with frequency 1 \n",
            "8766 with frequency 1 \n",
            "9374 with frequency 1 \n",
            "10139 with frequency 1 \n",
            "10445 with frequency 1 \n",
            "10703 with frequency 1 \n"
          ]
        }
      ],
      "source": [
        "meta = index.getMetaIndex()\n",
        "inv = index.getInvertedIndex()\n",
        "\n",
        "le = lex.getLexiconEntry( \"chemic\" )\n",
        "# the lexicon entry is also our pointer to access the inverted index posting list\n",
        "for posting in inv.getPostings( le ):\n",
        "\tdocno = meta.getItem(\"docno\", posting.getId())\n",
        "\tprint(\"%s with frequency %d \" % (docno, posting.getFrequency()))"
      ]
    },
    {
      "cell_type": "markdown",
      "metadata": {
        "id": "pWdJTL58BLge"
      },
      "source": [
        "Our index does not have position information, but *if it did*, the above loop would look like:\n",
        "\n",
        "```python\n",
        "for posting in inv.getPostings( le ):\n",
        "  docno = meta.getItem(\"docno\", posting.getId())\n",
        "  # unlike in Java, we dont need to cast posting to be a BlockPosting\n",
        "  positions = postings.getPositions()\n",
        "  print(\"%s with frequency %d and positions %s\" % (docno, posting.getFrequency(), str(positions))\n",
        "```"
      ]
    },
    {
      "cell_type": "markdown",
      "metadata": {
        "id": "yb1tfXz0B5EY"
      },
      "source": [
        "### What are the PL2 weighting model scores of documents that \"Y\" occurs in?\n",
        "\n",
        "Use of a WeightingModel class needs some setup, namely the [EntryStatistics](http://terrier.org/docs/current/javadoc/org/terrier/structures/EntryStatistics.html) of the term (obtained from the Lexicon, in the form of the LexiconEntry), as well as the CollectionStatistics (obtained from the index)."
      ]
    },
    {
      "cell_type": "code",
      "execution_count": null,
      "metadata": {
        "colab": {
          "base_uri": "https://localhost:8080/",
          "height": 357
        },
        "id": "JVO3BjLTBBXb",
        "outputId": "c5d8e8d9-266a-4480-bc28-e08164af2bcc",
        "vscode": {
          "languageId": "python"
        }
      },
      "outputs": [
        {
          "name": "stdout",
          "output_type": "stream",
          "text": [
            "1056 with score 6.3584\n",
            "1140 with score 5.3378\n",
            "2050 with score 4.5494\n",
            "2417 with score 4.5494\n",
            "2520 with score 5.1136\n",
            "2558 with score 5.1136\n",
            "3320 with score 1.5902\n",
            "4054 with score 2.1297\n",
            "4687 with score 5.0092\n",
            "4886 with score 6.1814\n",
            "4912 with score 4.2399\n",
            "6129 with score 3.0708\n",
            "6279 with score 5.6394\n",
            "7049 with score 4.3891\n",
            "8416 with score 1.9834\n",
            "8766 with score 5.3378\n",
            "9374 with score 4.4678\n",
            "10139 with score 5.2230\n",
            "10445 with score 3.6754\n",
            "10703 with score 6.9992\n"
          ]
        }
      ],
      "source": [
        "inv = index.getInvertedIndex()\n",
        "meta = index.getMetaIndex()\n",
        "lex = index.getLexicon()\n",
        "le = lex.getLexiconEntry( \"chemic\" )\n",
        "wmodel = pt.autoclass(\"org.terrier.matching.models.PL2\")()\n",
        "wmodel.setCollectionStatistics(index.getCollectionStatistics())\n",
        "wmodel.setEntryStatistics(le);\n",
        "wmodel.setKeyFrequency(1)\n",
        "wmodel.prepare()\n",
        "for posting in inv.getPostings(le):\n",
        "  docno = meta.getItem(\"docno\", posting.getId())\n",
        "  score = wmodel.score(posting)\n",
        "  print(\"%s with score %0.4f\"  % (docno, score))\n"
      ]
    },
    {
      "cell_type": "code",
      "execution_count": null,
      "metadata": {
        "id": "j7HZ9-cPCkEU",
        "vscode": {
          "languageId": "python"
        }
      },
      "outputs": [],
      "source": []
    }
  ],
  "metadata": {
    "colab": {
      "name": "Copy of Indexing Demo.ipynb",
      "provenance": [],
      "include_colab_link": true
    },
    "kernelspec": {
      "display_name": "Python 3",
      "name": "python3"
    }
  },
  "nbformat": 4,
  "nbformat_minor": 0
}